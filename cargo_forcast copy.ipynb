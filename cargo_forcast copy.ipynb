{
 "cells": [
  {
   "cell_type": "code",
   "execution_count": 149,
   "metadata": {},
   "outputs": [],
   "source": [
    "import pandas as pd\n",
    "import numpy as np\n",
    "import seaborn as sns\n",
    "import matplotlib.pyplot as plt\n",
    "import matplotlib.dates as mdates\n",
    "import os\n",
    "import datetime\n",
    "import statsmodels.tsa.api as smt\n",
    "from IPython.display import display\n",
    "from pandasql import *\n",
    "from dateutil import parser\n",
    "import pandasql as ps\n",
    "from statsmodels.tsa.seasonal import seasonal_decompose\n",
    "from pmdarima import auto_arima\n",
    "  \n",
    "# Ignore harmless warnings\n",
    "import warnings\n",
    "warnings.filterwarnings(\"ignore\")"
   ]
  },
  {
   "cell_type": "code",
   "execution_count": 150,
   "metadata": {},
   "outputs": [],
   "source": [
    "def loadData(fileName):\n",
    "    dir=os.path.dirname(os.path.abspath(\"__file__\"))\n",
    "    # dir = os.path.dirname(__file__)\n",
    "    # print(\"abs---\",dir)\n",
    "    filename = dir+'\\\\data\\\\' + fileName;\n",
    "    # print(\"filename--\",filename)\n",
    "    return pd.read_csv(filename, low_memory=False,encoding='latin-1')  "
   ]
  },
  {
   "source": [
    "# Load flight Data"
   ],
   "cell_type": "markdown",
   "metadata": {}
  },
  {
   "cell_type": "code",
   "execution_count": 151,
   "metadata": {},
   "outputs": [
    {
     "output_type": "execute_result",
     "data": {
      "text/plain": [
       "   Flight_No  org  dst              SCH_DEP_DATE  BKD_WT_sum  BKD_VOL_sum  \\\n",
       "0       6600  MUC  DWC  2018-01-19T00:00:00.000Z     13343.1    42.174486   \n",
       "1       6600  MUC  DWC  2019-02-10T00:00:00.000Z      8771.4    69.009161   \n",
       "2       6600  LIS  DWC  2018-07-24T00:00:00.000Z     14635.2    50.045059   \n",
       "3       6600  LIS  DWC  2019-06-17T00:00:00.000Z      6509.6    37.940000   \n",
       "4       6600  LIS  DWC  2019-10-12T00:00:00.000Z      9936.0    52.440000   \n",
       "\n",
       "   CHG_WT_BU_sum  count  OPN_SUFX INHOUSE_AC_TYP  ... AC_CGO_WT_BU  \\\n",
       "0       13565.00     10       NaN           388L  ...      15000.0   \n",
       "1       12379.77     18       NaN           388R  ...      15000.0   \n",
       "2       15032.20      9       NaN          77WEJ  ...      17000.0   \n",
       "3        6509.60      6       NaN          77WER  ...      20000.0   \n",
       "4       11709.34      5       NaN          77WER  ...      20000.0   \n",
       "\n",
       "  AC_CGO_VOL_BU  CMRCL_CGO_WT_BU  CMRCL_CGO_VOL_BU  NOOP_CAN_IND  ISO_CODE  \\\n",
       "0          60.0          16000.0              60.0           NaN        GB   \n",
       "1          60.0          15000.0              70.0           NaN        GB   \n",
       "2          90.0          17000.0              90.0           NaN        TR   \n",
       "3         100.0          20000.0             100.0           NaN        TR   \n",
       "4         100.0          20000.0             100.0           NaN        TR   \n",
       "\n",
       "   EST_CGO_PLOD_WT_BU EST_CGO_PLOD_VOL_BU  EST_WT_BU  EST_VOL_BU  \n",
       "0            39915.06           90.498204   21662.10   27.677246  \n",
       "1            25538.53           83.720000    5002.00    6.000000  \n",
       "2            16971.62           86.757365     707.84    0.885269  \n",
       "3            25584.45           98.077126    3139.68    3.950180  \n",
       "4            21075.26           84.050299     531.60    0.788024  \n",
       "\n",
       "[5 rows x 22 columns]"
      ],
      "text/html": "<div>\n<style scoped>\n    .dataframe tbody tr th:only-of-type {\n        vertical-align: middle;\n    }\n\n    .dataframe tbody tr th {\n        vertical-align: top;\n    }\n\n    .dataframe thead th {\n        text-align: right;\n    }\n</style>\n<table border=\"1\" class=\"dataframe\">\n  <thead>\n    <tr style=\"text-align: right;\">\n      <th></th>\n      <th>Flight_No</th>\n      <th>org</th>\n      <th>dst</th>\n      <th>SCH_DEP_DATE</th>\n      <th>BKD_WT_sum</th>\n      <th>BKD_VOL_sum</th>\n      <th>CHG_WT_BU_sum</th>\n      <th>count</th>\n      <th>OPN_SUFX</th>\n      <th>INHOUSE_AC_TYP</th>\n      <th>...</th>\n      <th>AC_CGO_WT_BU</th>\n      <th>AC_CGO_VOL_BU</th>\n      <th>CMRCL_CGO_WT_BU</th>\n      <th>CMRCL_CGO_VOL_BU</th>\n      <th>NOOP_CAN_IND</th>\n      <th>ISO_CODE</th>\n      <th>EST_CGO_PLOD_WT_BU</th>\n      <th>EST_CGO_PLOD_VOL_BU</th>\n      <th>EST_WT_BU</th>\n      <th>EST_VOL_BU</th>\n    </tr>\n  </thead>\n  <tbody>\n    <tr>\n      <th>0</th>\n      <td>6600</td>\n      <td>MUC</td>\n      <td>DWC</td>\n      <td>2018-01-19T00:00:00.000Z</td>\n      <td>13343.1</td>\n      <td>42.174486</td>\n      <td>13565.00</td>\n      <td>10</td>\n      <td>NaN</td>\n      <td>388L</td>\n      <td>...</td>\n      <td>15000.0</td>\n      <td>60.0</td>\n      <td>16000.0</td>\n      <td>60.0</td>\n      <td>NaN</td>\n      <td>GB</td>\n      <td>39915.06</td>\n      <td>90.498204</td>\n      <td>21662.10</td>\n      <td>27.677246</td>\n    </tr>\n    <tr>\n      <th>1</th>\n      <td>6600</td>\n      <td>MUC</td>\n      <td>DWC</td>\n      <td>2019-02-10T00:00:00.000Z</td>\n      <td>8771.4</td>\n      <td>69.009161</td>\n      <td>12379.77</td>\n      <td>18</td>\n      <td>NaN</td>\n      <td>388R</td>\n      <td>...</td>\n      <td>15000.0</td>\n      <td>60.0</td>\n      <td>15000.0</td>\n      <td>70.0</td>\n      <td>NaN</td>\n      <td>GB</td>\n      <td>25538.53</td>\n      <td>83.720000</td>\n      <td>5002.00</td>\n      <td>6.000000</td>\n    </tr>\n    <tr>\n      <th>2</th>\n      <td>6600</td>\n      <td>LIS</td>\n      <td>DWC</td>\n      <td>2018-07-24T00:00:00.000Z</td>\n      <td>14635.2</td>\n      <td>50.045059</td>\n      <td>15032.20</td>\n      <td>9</td>\n      <td>NaN</td>\n      <td>77WEJ</td>\n      <td>...</td>\n      <td>17000.0</td>\n      <td>90.0</td>\n      <td>17000.0</td>\n      <td>90.0</td>\n      <td>NaN</td>\n      <td>TR</td>\n      <td>16971.62</td>\n      <td>86.757365</td>\n      <td>707.84</td>\n      <td>0.885269</td>\n    </tr>\n    <tr>\n      <th>3</th>\n      <td>6600</td>\n      <td>LIS</td>\n      <td>DWC</td>\n      <td>2019-06-17T00:00:00.000Z</td>\n      <td>6509.6</td>\n      <td>37.940000</td>\n      <td>6509.60</td>\n      <td>6</td>\n      <td>NaN</td>\n      <td>77WER</td>\n      <td>...</td>\n      <td>20000.0</td>\n      <td>100.0</td>\n      <td>20000.0</td>\n      <td>100.0</td>\n      <td>NaN</td>\n      <td>TR</td>\n      <td>25584.45</td>\n      <td>98.077126</td>\n      <td>3139.68</td>\n      <td>3.950180</td>\n    </tr>\n    <tr>\n      <th>4</th>\n      <td>6600</td>\n      <td>LIS</td>\n      <td>DWC</td>\n      <td>2019-10-12T00:00:00.000Z</td>\n      <td>9936.0</td>\n      <td>52.440000</td>\n      <td>11709.34</td>\n      <td>5</td>\n      <td>NaN</td>\n      <td>77WER</td>\n      <td>...</td>\n      <td>20000.0</td>\n      <td>100.0</td>\n      <td>20000.0</td>\n      <td>100.0</td>\n      <td>NaN</td>\n      <td>TR</td>\n      <td>21075.26</td>\n      <td>84.050299</td>\n      <td>531.60</td>\n      <td>0.788024</td>\n    </tr>\n  </tbody>\n</table>\n<p>5 rows × 22 columns</p>\n</div>"
     },
     "metadata": {},
     "execution_count": 151
    }
   ],
   "source": [
    "flight_data=loadData(\"selectedFlightData.csv\")\n",
    "# flight_data=loadData(\"Flight_Forecast_data.csv\")\n",
    "\n",
    "flight_data.head()\n",
    "\n"
   ]
  },
  {
   "cell_type": "code",
   "execution_count": 152,
   "metadata": {},
   "outputs": [],
   "source": [
    "flight_data['SCH_DEP_DATE'] = pd.to_datetime(flight_data['SCH_DEP_DATE']).dt.date"
   ]
  },
  {
   "cell_type": "code",
   "execution_count": 153,
   "metadata": {},
   "outputs": [],
   "source": [
    "holiday_data=loadData(\"Holidays Final.csv\")\n"
   ]
  },
  {
   "cell_type": "code",
   "execution_count": 154,
   "metadata": {},
   "outputs": [],
   "source": [
    "airport_data=loadData(\"airport_code.csv\")\n"
   ]
  },
  {
   "cell_type": "code",
   "execution_count": 155,
   "metadata": {},
   "outputs": [],
   "source": [
    "def renameOrgDstFltCntryDfColumns(orgn_dst_flight_contry_df):\n",
    "    orgn_dst_flight_contry_df['ORG_CNTRY_NAME'] = orgn_dst_flight_contry_df['ORG_CNTRY_NAME'].str.upper()\n",
    "    orgn_dst_flight_contry_df['DST_CNTRY_NAME'] = orgn_dst_flight_contry_df['DST_CNTRY_NAME'].str.upper()\n",
    "    orgn_dst_flight_contry_df['ORG_CNTRY_NAME'] = orgn_dst_flight_contry_df['ORG_CNTRY_NAME'].str.strip()\n",
    "    orgn_dst_flight_contry_df['DST_CNTRY_NAME'] = orgn_dst_flight_contry_df['DST_CNTRY_NAME'].str.strip()"
   ]
  },
  {
   "cell_type": "code",
   "execution_count": 156,
   "metadata": {},
   "outputs": [],
   "source": [
    "def getSelectedHolidayCol(selected_holiday_col_df):\n",
    "    selected_holiday_col_df=selected_holiday_col_df[['Country',\t'From_date','to_date']]\n",
    "    selected_holiday_col_df['Country'] = selected_holiday_col_df['Country'].str.upper()\n",
    "    selected_holiday_col_df['Country'] = selected_holiday_col_df['Country'].str.strip()\n",
    "    selected_holiday_col_df['From_date'] = pd.to_datetime(selected_holiday_col_df['From_date']).dt.date\n",
    "    selected_holiday_col_df['to_date'] = pd.to_datetime(selected_holiday_col_df['to_date']).dt.date\n",
    "\n",
    "    selected_holiday_col_df=selected_holiday_col_df.assign  (countrylist=selected_holiday_col_df.Country.str.split(',')).explode('countrylist').reset_index(drop=True)\n",
    "    # display(selected_holiday_col_df.shape[0])\n",
    "    # res = selected_holiday_col_df.iloc[694:698,]\n",
    "    # display(res)\n",
    "    # print(\"holiday count--\",len(selected_holiday_col_df.index))\n",
    "    return selected_holiday_col_df"
   ]
  },
  {
   "cell_type": "code",
   "execution_count": 157,
   "metadata": {},
   "outputs": [],
   "source": [
    "def getSelectedAirportCol(selected_airport_col_df):\n",
    "    selected_airport_col_df=selected_airport_col_df[['AIRPORT_CODE','AIRPORT_NAME','COUNTRY_NAME',\t'REGION_NAME']]\n",
    "    return selected_airport_col_df"
   ]
  },
  {
   "cell_type": "code",
   "execution_count": 158,
   "metadata": {},
   "outputs": [],
   "source": [
    "def getSelectedFlightCol(dataframe):\n",
    "    selected_flights_colms_df=dataframe[['Flight_No','org','dst','SCH_DEP_DATE','BKD_WT_sum','BKD_VOL_sum','CHG_WT_BU_sum',\n",
    "        'INHOUSE_AC_TYP','OPN_MODE','SVC_TYP','AC_CGO_WT_BU',\t'AC_CGO_VOL_BU',\n",
    "        'CMRCL_CGO_WT_BU','CMRCL_CGO_VOL_BU','NOOP_CAN_IND',\t'ISO_CODE',\t'EST_CGO_PLOD_WT_BU',\n",
    "        'EST_CGO_PLOD_VOL_BU'\n",
    "    ]]\n",
    "    \n",
    "    selected_flights_colms_df[selected_flights_colms_df[\"BKD_WT_sum\"] < 0] = 0\n",
    "    selected_flights_colms_df[selected_flights_colms_df[\"EST_CGO_PLOD_WT_BU\"] < 0] = 0\n",
    "    selected_flights_colms_df[selected_flights_colms_df[\"CHG_WT_BU_sum\"] < 0] = 0\n",
    "    \n",
    "    return selected_flights_colms_df"
   ]
  },
  {
   "cell_type": "code",
   "execution_count": 159,
   "metadata": {},
   "outputs": [],
   "source": [
    "selected_flight_col_df=getSelectedFlightCol(flight_data)\n",
    "selected_holiday_col_df=getSelectedHolidayCol(holiday_data)\n",
    "selected_aiport_col_df=getSelectedAirportCol(airport_data)"
   ]
  },
  {
   "cell_type": "code",
   "execution_count": 160,
   "metadata": {},
   "outputs": [],
   "source": [
    "def writeToCsv(df,file_name):\n",
    "    dir=os.path.dirname(os.path.abspath(\"__file__\"))\n",
    "    df.to_csv(dir+'\\\\data\\\\'+file_name)"
   ]
  },
  {
   "source": [
    "# Join Origin of flight and country  "
   ],
   "cell_type": "markdown",
   "metadata": {}
  },
  {
   "cell_type": "code",
   "execution_count": 161,
   "metadata": {},
   "outputs": [],
   "source": [
    "\n",
    "def joinOrgFlightAndContry(selected_flight_col_df,selected_aiport_col_df):\n",
    "    \n",
    "    flight_aiport_df=pd.merge(selected_flight_col_df,selected_aiport_col_df,how='left',left_on=['org'],right_on=        ['AIRPORT_CODE'])\n",
    "    flight_aiport_df = flight_aiport_df.rename(columns={'COUNTRY_NAME': 'ORG_CNTRY_NAME',\n",
    "                                'REGION_NAME':'ORG_REGION_NAME',\n",
    "                                'AIRPORT_CODE':'ORG_AIRPORT_CODE',\n",
    "                                'AIRPORT_NAME':'ORG_AIRPORT_NAME'})\n",
    "    # display(flight_aiport_df)\n",
    "    flight_aiport_df['ORG_CNTRY_NAME'] = flight_aiport_df['ORG_CNTRY_NAME'].str.upper()\n",
    "    flight_aiport_df['ORG_CNTRY_NAME'] = flight_aiport_df['ORG_CNTRY_NAME'].str.strip()\n",
    "    return flight_aiport_df\n",
    "orgn_flight_contry_df=joinOrgFlightAndContry(selected_flight_col_df,selected_aiport_col_df)"
   ]
  },
  {
   "source": [
    "\n",
    "# Join destination and country master"
   ],
   "cell_type": "markdown",
   "metadata": {}
  },
  {
   "cell_type": "code",
   "execution_count": 162,
   "metadata": {},
   "outputs": [],
   "source": [
    "def joinDstFlightAndContry(selected_flight_col_df,selected_aiport_col_df):\n",
    "    flight_aiport_df=pd.merge(selected_flight_col_df,selected_aiport_col_df,how='left',left_on=['dst'],right_on=['AIRPORT_CODE'])\n",
    "    flight_aiport_df = flight_aiport_df.rename(columns={'COUNTRY_NAME': 'DST_CNTRY_NAME',\n",
    "                                'REGION_NAME':'DST_REGION_NAME',\n",
    "                                'AIRPORT_CODE':'DST_AIRPORT_CODE',\n",
    "                                'AIRPORT_NAME':'DST_AIRPORT_NAME'})\n",
    "    flight_aiport_df['DST_CNTRY_NAME'] = flight_aiport_df['DST_CNTRY_NAME'].str.upper()\n",
    "    flight_aiport_df['DST_CNTRY_NAME'] = flight_aiport_df['DST_CNTRY_NAME'].str.strip()                        \n",
    "    return flight_aiport_df;\n",
    "orgn_dst_flight_contry_df=joinDstFlightAndContry(orgn_flight_contry_df,selected_aiport_col_df)"
   ]
  },
  {
   "source": [
    "# Count and Replace NA"
   ],
   "cell_type": "markdown",
   "metadata": {}
  },
  {
   "cell_type": "code",
   "execution_count": 163,
   "metadata": {},
   "outputs": [],
   "source": [
    "def replaceNAN(flt_airpot_holiday_df):\n",
    "    nan_count=flt_airpot_holiday_df.isna().sum().sum()\n",
    "    print(\"NAN count--\",nan_count)\n",
    "    flt_airpot_holiday_df = flt_airpot_holiday_df.replace(np.nan, 0)\n",
    "    nan_count=flt_airpot_holiday_df.isna().sum().sum()\n",
    "    print(\"NAN count--\",nan_count)\n",
    "    return flt_airpot_holiday_df;"
   ]
  },
  {
   "cell_type": "code",
   "execution_count": null,
   "metadata": {},
   "outputs": [],
   "source": []
  },
  {
   "source": [
    "# Find Origin holiday "
   ],
   "cell_type": "markdown",
   "metadata": {}
  },
  {
   "cell_type": "code",
   "execution_count": 164,
   "metadata": {},
   "outputs": [],
   "source": [
    "\n",
    "def joinFlighOrgAndHolidayData(orgn_dst_flight_contry_df,selected_holiday_col_df):\n",
    "    flt_hlyday_flg_query = '''\n",
    "        select flt.Flight_No,flt.org, flt.dst, flt.SCH_DEP_DATE, 1 as org_hday_flg\n",
    "        from orgn_dst_flight_contry_df flt\n",
    "        left join selected_holiday_col_df hldy \n",
    "        on (flt.ORG_CNTRY_NAME=hldy.Country or coalesce(hldy.Country,true))\n",
    "        where flt.SCH_DEP_DATE >= hldy.From_date and flt.SCH_DEP_DATE <= hldy.to_date\n",
    "        \n",
    "    '''\n",
    "    joined_flt_hlday_flag_df = ps.sqldf(flt_hlyday_flg_query,locals())\n",
    "\n",
    "    final_flt_hlyday_query = '''\n",
    "        select flt.*,coalesce(hldy.org_hday_flg,0) as org_hday_flg\n",
    "        from orgn_dst_flight_contry_df flt\n",
    "        left join joined_flt_hlday_flag_df hldy \n",
    "        on (flt.org=hldy.org \n",
    "            and flt.dst=hldy.dst \n",
    "            and flt.Flight_No=hldy.Flight_No \n",
    "            and flt.SCH_DEP_DATE=hldy.SCH_DEP_DATE\n",
    "            )\n",
    "    '''\n",
    "    org_dst_flight_holidate_df = ps.sqldf(final_flt_hlyday_query,locals())\n",
    "\n",
    "    return org_dst_flight_holidate_df\n",
    "\n",
    "orgn_dst_flt_cntry_orgn_hlyday_df=joinFlighOrgAndHolidayData(orgn_dst_flight_contry_df,selected_holiday_col_df)\n",
    "orgn_dst_flt_cntry_orgn_hlyday_df.head()\n",
    "# display(orgn_dst_flt_cntry_orgn_hlyday_df)\n",
    "# print(\"orgn holiday--\",len(orgn_dst_flt_cntry_orgn_hlyday_df.index))\n",
    "orgn_dst_flt_cntry_orgn_hlyday_df=orgn_dst_flt_cntry_orgn_hlyday_df.drop_duplicates()\n"
   ]
  },
  {
   "cell_type": "code",
   "execution_count": 165,
   "metadata": {},
   "outputs": [
    {
     "output_type": "execute_result",
     "data": {
      "text/plain": [
       "   Flight_No  org  dst SCH_DEP_DATE  BKD_WT_sum  BKD_VOL_sum  CHG_WT_BU_sum  \\\n",
       "0       6600  MUC  DWC   2018-01-19     13343.1    42.174486       13565.00   \n",
       "1       6600  MUC  DWC   2019-02-10      8771.4    69.009161       12379.77   \n",
       "2       6600  LIS  DWC   2018-07-24     14635.2    50.045059       15032.20   \n",
       "3       6600  LIS  DWC   2019-06-17      6509.6    37.940000        6509.60   \n",
       "4       6600  LIS  DWC   2019-10-12      9936.0    52.440000       11709.34   \n",
       "\n",
       "  INHOUSE_AC_TYP OPN_MODE SVC_TYP  ...  ORG_AIRPORT_CODE  ORG_AIRPORT_NAME  \\\n",
       "0           388L        J       J  ...               MUC     International   \n",
       "1           388R        J       J  ...               MUC     International   \n",
       "2          77WEJ        J       J  ...               LIS           Airport   \n",
       "3          77WER        J       J  ...               LIS           Airport   \n",
       "4          77WER        J       J  ...               LIS           Airport   \n",
       "\n",
       "   ORG_CNTRY_NAME  ORG_REGION_NAME  DST_AIRPORT_CODE DST_AIRPORT_NAME  \\\n",
       "0         GERMANY           EUROPE               DWC  Al Maktoum Intl   \n",
       "1         GERMANY           EUROPE               DWC  Al Maktoum Intl   \n",
       "2        PORTUGAL           EUROPE               DWC  Al Maktoum Intl   \n",
       "3        PORTUGAL           EUROPE               DWC  Al Maktoum Intl   \n",
       "4        PORTUGAL           EUROPE               DWC  Al Maktoum Intl   \n",
       "\n",
       "   DST_CNTRY_NAME          DST_REGION_NAME org_hday_flg dst_hday_flg  \n",
       "0             UAE  GCC, MIDDLE EAST & IRAN            0            0  \n",
       "1             UAE  GCC, MIDDLE EAST & IRAN            0            0  \n",
       "2             UAE  GCC, MIDDLE EAST & IRAN            0            0  \n",
       "3             UAE  GCC, MIDDLE EAST & IRAN            0            0  \n",
       "4             UAE  GCC, MIDDLE EAST & IRAN            0            1  \n",
       "\n",
       "[5 rows x 28 columns]"
      ],
      "text/html": "<div>\n<style scoped>\n    .dataframe tbody tr th:only-of-type {\n        vertical-align: middle;\n    }\n\n    .dataframe tbody tr th {\n        vertical-align: top;\n    }\n\n    .dataframe thead th {\n        text-align: right;\n    }\n</style>\n<table border=\"1\" class=\"dataframe\">\n  <thead>\n    <tr style=\"text-align: right;\">\n      <th></th>\n      <th>Flight_No</th>\n      <th>org</th>\n      <th>dst</th>\n      <th>SCH_DEP_DATE</th>\n      <th>BKD_WT_sum</th>\n      <th>BKD_VOL_sum</th>\n      <th>CHG_WT_BU_sum</th>\n      <th>INHOUSE_AC_TYP</th>\n      <th>OPN_MODE</th>\n      <th>SVC_TYP</th>\n      <th>...</th>\n      <th>ORG_AIRPORT_CODE</th>\n      <th>ORG_AIRPORT_NAME</th>\n      <th>ORG_CNTRY_NAME</th>\n      <th>ORG_REGION_NAME</th>\n      <th>DST_AIRPORT_CODE</th>\n      <th>DST_AIRPORT_NAME</th>\n      <th>DST_CNTRY_NAME</th>\n      <th>DST_REGION_NAME</th>\n      <th>org_hday_flg</th>\n      <th>dst_hday_flg</th>\n    </tr>\n  </thead>\n  <tbody>\n    <tr>\n      <th>0</th>\n      <td>6600</td>\n      <td>MUC</td>\n      <td>DWC</td>\n      <td>2018-01-19</td>\n      <td>13343.1</td>\n      <td>42.174486</td>\n      <td>13565.00</td>\n      <td>388L</td>\n      <td>J</td>\n      <td>J</td>\n      <td>...</td>\n      <td>MUC</td>\n      <td>International</td>\n      <td>GERMANY</td>\n      <td>EUROPE</td>\n      <td>DWC</td>\n      <td>Al Maktoum Intl</td>\n      <td>UAE</td>\n      <td>GCC, MIDDLE EAST &amp; IRAN</td>\n      <td>0</td>\n      <td>0</td>\n    </tr>\n    <tr>\n      <th>1</th>\n      <td>6600</td>\n      <td>MUC</td>\n      <td>DWC</td>\n      <td>2019-02-10</td>\n      <td>8771.4</td>\n      <td>69.009161</td>\n      <td>12379.77</td>\n      <td>388R</td>\n      <td>J</td>\n      <td>J</td>\n      <td>...</td>\n      <td>MUC</td>\n      <td>International</td>\n      <td>GERMANY</td>\n      <td>EUROPE</td>\n      <td>DWC</td>\n      <td>Al Maktoum Intl</td>\n      <td>UAE</td>\n      <td>GCC, MIDDLE EAST &amp; IRAN</td>\n      <td>0</td>\n      <td>0</td>\n    </tr>\n    <tr>\n      <th>2</th>\n      <td>6600</td>\n      <td>LIS</td>\n      <td>DWC</td>\n      <td>2018-07-24</td>\n      <td>14635.2</td>\n      <td>50.045059</td>\n      <td>15032.20</td>\n      <td>77WEJ</td>\n      <td>J</td>\n      <td>J</td>\n      <td>...</td>\n      <td>LIS</td>\n      <td>Airport</td>\n      <td>PORTUGAL</td>\n      <td>EUROPE</td>\n      <td>DWC</td>\n      <td>Al Maktoum Intl</td>\n      <td>UAE</td>\n      <td>GCC, MIDDLE EAST &amp; IRAN</td>\n      <td>0</td>\n      <td>0</td>\n    </tr>\n    <tr>\n      <th>3</th>\n      <td>6600</td>\n      <td>LIS</td>\n      <td>DWC</td>\n      <td>2019-06-17</td>\n      <td>6509.6</td>\n      <td>37.940000</td>\n      <td>6509.60</td>\n      <td>77WER</td>\n      <td>J</td>\n      <td>J</td>\n      <td>...</td>\n      <td>LIS</td>\n      <td>Airport</td>\n      <td>PORTUGAL</td>\n      <td>EUROPE</td>\n      <td>DWC</td>\n      <td>Al Maktoum Intl</td>\n      <td>UAE</td>\n      <td>GCC, MIDDLE EAST &amp; IRAN</td>\n      <td>0</td>\n      <td>0</td>\n    </tr>\n    <tr>\n      <th>4</th>\n      <td>6600</td>\n      <td>LIS</td>\n      <td>DWC</td>\n      <td>2019-10-12</td>\n      <td>9936.0</td>\n      <td>52.440000</td>\n      <td>11709.34</td>\n      <td>77WER</td>\n      <td>J</td>\n      <td>J</td>\n      <td>...</td>\n      <td>LIS</td>\n      <td>Airport</td>\n      <td>PORTUGAL</td>\n      <td>EUROPE</td>\n      <td>DWC</td>\n      <td>Al Maktoum Intl</td>\n      <td>UAE</td>\n      <td>GCC, MIDDLE EAST &amp; IRAN</td>\n      <td>0</td>\n      <td>1</td>\n    </tr>\n  </tbody>\n</table>\n<p>5 rows × 28 columns</p>\n</div>"
     },
     "metadata": {},
     "execution_count": 165
    }
   ],
   "source": [
    "def joinFlighDstAndHolidayData(orgn_dst_flight_contry_df,selected_holiday_col_df):\n",
    "    # display(orgn_dst_flight_contry_df)\n",
    "    # display(selected_holiday_col_df)\n",
    "    \n",
    "    flt_hlyday_flg_query = '''\n",
    "        select flt.Flight_No,flt.org, flt.dst, flt.SCH_DEP_DATE, 1 as dst_hday_flg\n",
    "        from orgn_dst_flight_contry_df flt\n",
    "        left join selected_holiday_col_df hldy \n",
    "        on (flt.DST_CNTRY_NAME=hldy.Country or coalesce(hldy.Country,true) )\n",
    "        where flt.SCH_DEP_DATE >= hldy.From_date and flt.SCH_DEP_DATE <= hldy.to_date\n",
    "    '''\n",
    "    joined_flt_hlday_flag_df = ps.sqldf(flt_hlyday_flg_query,locals())\n",
    "\n",
    "    final_flt_hlyday_query = '''\n",
    "        select flt.*, coalesce(hldy.dst_hday_flg,0) as dst_hday_flg\n",
    "        from orgn_dst_flight_contry_df flt\n",
    "        left join joined_flt_hlday_flag_df hldy \n",
    "        on (flt.org=hldy.org \n",
    "            and flt.dst=hldy.dst \n",
    "            and flt.Flight_No=hldy.Flight_No \n",
    "            and flt.SCH_DEP_DATE=hldy.SCH_DEP_DATE\n",
    "            )\n",
    "    '''\n",
    "    org_dst_flight_holidate_df = ps.sqldf(final_flt_hlyday_query,locals())\n",
    "    return org_dst_flight_holidate_df\n",
    "\n",
    "orgn_dst_flt_cntry_dstnorgn_hlyday_df=joinFlighDstAndHolidayData(orgn_dst_flt_cntry_orgn_hlyday_df,selected_holiday_col_df)\n",
    "orgn_dst_flt_cntry_dstnorgn_hlyday_df.head()"
   ]
  },
  {
   "source": [
    "# Drop Columns"
   ],
   "cell_type": "markdown",
   "metadata": {}
  },
  {
   "cell_type": "code",
   "execution_count": 166,
   "metadata": {},
   "outputs": [],
   "source": [
    "def dropColumns(flt_airpot_holiday_df):\n",
    "    colm_array=['ORG_CNTRY_HOLIDAY','ORG_HOLIDAY_FROM_DATE','ORG_HOLIDAY_TO_DATE','DST_CNTRY_HOLIDAY',\t    'DST_HOLIDAY_FROM_DATE','DST_HOLIDAY_TO_DATE','ORG_REGION_NAME','DST_REGION_NAME','ORG_AIRPORT_CODE',\t'ORG_AIRPORT_NAME','ORG_CNTRY_NAME','DST_AIRPORT_CODE','DST_AIRPORT_NAME','DST_CNTRY_NAME']\n",
    "    flt_airpot_holiday_df_droped=flt_airpot_holiday_df.drop(colm_array, axis = 1)\n",
    "    return flt_airpot_holiday_df_droped;"
   ]
  },
  {
   "cell_type": "code",
   "execution_count": null,
   "metadata": {},
   "outputs": [],
   "source": []
  },
  {
   "cell_type": "code",
   "execution_count": 167,
   "metadata": {},
   "outputs": [
    {
     "output_type": "stream",
     "name": "stdout",
     "text": [
      "NAN count-- 12301\n",
      "NAN count-- 0\n"
     ]
    },
    {
     "output_type": "execute_result",
     "data": {
      "text/plain": [
       "   Flight_No  org  dst SCH_DEP_DATE  BKD_WT_sum  BKD_VOL_sum  CHG_WT_BU_sum  \\\n",
       "0       6600  MUC  DWC   2018-01-19     13343.1    42.174486       13565.00   \n",
       "1       6600  MUC  DWC   2019-02-10      8771.4    69.009161       12379.77   \n",
       "2       6600  LIS  DWC   2018-07-24     14635.2    50.045059       15032.20   \n",
       "3       6600  LIS  DWC   2019-06-17      6509.6    37.940000        6509.60   \n",
       "4       6600  LIS  DWC   2019-10-12      9936.0    52.440000       11709.34   \n",
       "\n",
       "  INHOUSE_AC_TYP OPN_MODE SVC_TYP  ...  ORG_AIRPORT_CODE  ORG_AIRPORT_NAME  \\\n",
       "0           388L        J       J  ...               MUC     International   \n",
       "1           388R        J       J  ...               MUC     International   \n",
       "2          77WEJ        J       J  ...               LIS           Airport   \n",
       "3          77WER        J       J  ...               LIS           Airport   \n",
       "4          77WER        J       J  ...               LIS           Airport   \n",
       "\n",
       "   ORG_CNTRY_NAME  ORG_REGION_NAME  DST_AIRPORT_CODE DST_AIRPORT_NAME  \\\n",
       "0         GERMANY           EUROPE               DWC  Al Maktoum Intl   \n",
       "1         GERMANY           EUROPE               DWC  Al Maktoum Intl   \n",
       "2        PORTUGAL           EUROPE               DWC  Al Maktoum Intl   \n",
       "3        PORTUGAL           EUROPE               DWC  Al Maktoum Intl   \n",
       "4        PORTUGAL           EUROPE               DWC  Al Maktoum Intl   \n",
       "\n",
       "   DST_CNTRY_NAME          DST_REGION_NAME org_hday_flg dst_hday_flg  \n",
       "0             UAE  GCC, MIDDLE EAST & IRAN            0            0  \n",
       "1             UAE  GCC, MIDDLE EAST & IRAN            0            0  \n",
       "2             UAE  GCC, MIDDLE EAST & IRAN            0            0  \n",
       "3             UAE  GCC, MIDDLE EAST & IRAN            0            0  \n",
       "4             UAE  GCC, MIDDLE EAST & IRAN            0            1  \n",
       "\n",
       "[5 rows x 28 columns]"
      ],
      "text/html": "<div>\n<style scoped>\n    .dataframe tbody tr th:only-of-type {\n        vertical-align: middle;\n    }\n\n    .dataframe tbody tr th {\n        vertical-align: top;\n    }\n\n    .dataframe thead th {\n        text-align: right;\n    }\n</style>\n<table border=\"1\" class=\"dataframe\">\n  <thead>\n    <tr style=\"text-align: right;\">\n      <th></th>\n      <th>Flight_No</th>\n      <th>org</th>\n      <th>dst</th>\n      <th>SCH_DEP_DATE</th>\n      <th>BKD_WT_sum</th>\n      <th>BKD_VOL_sum</th>\n      <th>CHG_WT_BU_sum</th>\n      <th>INHOUSE_AC_TYP</th>\n      <th>OPN_MODE</th>\n      <th>SVC_TYP</th>\n      <th>...</th>\n      <th>ORG_AIRPORT_CODE</th>\n      <th>ORG_AIRPORT_NAME</th>\n      <th>ORG_CNTRY_NAME</th>\n      <th>ORG_REGION_NAME</th>\n      <th>DST_AIRPORT_CODE</th>\n      <th>DST_AIRPORT_NAME</th>\n      <th>DST_CNTRY_NAME</th>\n      <th>DST_REGION_NAME</th>\n      <th>org_hday_flg</th>\n      <th>dst_hday_flg</th>\n    </tr>\n  </thead>\n  <tbody>\n    <tr>\n      <th>0</th>\n      <td>6600</td>\n      <td>MUC</td>\n      <td>DWC</td>\n      <td>2018-01-19</td>\n      <td>13343.1</td>\n      <td>42.174486</td>\n      <td>13565.00</td>\n      <td>388L</td>\n      <td>J</td>\n      <td>J</td>\n      <td>...</td>\n      <td>MUC</td>\n      <td>International</td>\n      <td>GERMANY</td>\n      <td>EUROPE</td>\n      <td>DWC</td>\n      <td>Al Maktoum Intl</td>\n      <td>UAE</td>\n      <td>GCC, MIDDLE EAST &amp; IRAN</td>\n      <td>0</td>\n      <td>0</td>\n    </tr>\n    <tr>\n      <th>1</th>\n      <td>6600</td>\n      <td>MUC</td>\n      <td>DWC</td>\n      <td>2019-02-10</td>\n      <td>8771.4</td>\n      <td>69.009161</td>\n      <td>12379.77</td>\n      <td>388R</td>\n      <td>J</td>\n      <td>J</td>\n      <td>...</td>\n      <td>MUC</td>\n      <td>International</td>\n      <td>GERMANY</td>\n      <td>EUROPE</td>\n      <td>DWC</td>\n      <td>Al Maktoum Intl</td>\n      <td>UAE</td>\n      <td>GCC, MIDDLE EAST &amp; IRAN</td>\n      <td>0</td>\n      <td>0</td>\n    </tr>\n    <tr>\n      <th>2</th>\n      <td>6600</td>\n      <td>LIS</td>\n      <td>DWC</td>\n      <td>2018-07-24</td>\n      <td>14635.2</td>\n      <td>50.045059</td>\n      <td>15032.20</td>\n      <td>77WEJ</td>\n      <td>J</td>\n      <td>J</td>\n      <td>...</td>\n      <td>LIS</td>\n      <td>Airport</td>\n      <td>PORTUGAL</td>\n      <td>EUROPE</td>\n      <td>DWC</td>\n      <td>Al Maktoum Intl</td>\n      <td>UAE</td>\n      <td>GCC, MIDDLE EAST &amp; IRAN</td>\n      <td>0</td>\n      <td>0</td>\n    </tr>\n    <tr>\n      <th>3</th>\n      <td>6600</td>\n      <td>LIS</td>\n      <td>DWC</td>\n      <td>2019-06-17</td>\n      <td>6509.6</td>\n      <td>37.940000</td>\n      <td>6509.60</td>\n      <td>77WER</td>\n      <td>J</td>\n      <td>J</td>\n      <td>...</td>\n      <td>LIS</td>\n      <td>Airport</td>\n      <td>PORTUGAL</td>\n      <td>EUROPE</td>\n      <td>DWC</td>\n      <td>Al Maktoum Intl</td>\n      <td>UAE</td>\n      <td>GCC, MIDDLE EAST &amp; IRAN</td>\n      <td>0</td>\n      <td>0</td>\n    </tr>\n    <tr>\n      <th>4</th>\n      <td>6600</td>\n      <td>LIS</td>\n      <td>DWC</td>\n      <td>2019-10-12</td>\n      <td>9936.0</td>\n      <td>52.440000</td>\n      <td>11709.34</td>\n      <td>77WER</td>\n      <td>J</td>\n      <td>J</td>\n      <td>...</td>\n      <td>LIS</td>\n      <td>Airport</td>\n      <td>PORTUGAL</td>\n      <td>EUROPE</td>\n      <td>DWC</td>\n      <td>Al Maktoum Intl</td>\n      <td>UAE</td>\n      <td>GCC, MIDDLE EAST &amp; IRAN</td>\n      <td>0</td>\n      <td>1</td>\n    </tr>\n  </tbody>\n</table>\n<p>5 rows × 28 columns</p>\n</div>"
     },
     "metadata": {},
     "execution_count": 167
    }
   ],
   "source": [
    "# flt_airpot_holiday_drop_df=dropColumns(flt_airpot_holiday_df)\n",
    "flt_airpot_holiday_drop_df=replaceNAN(orgn_dst_flt_cntry_dstnorgn_hlyday_df)\n",
    "flt_airpot_holiday_drop_dup=flt_airpot_holiday_drop_df.drop_duplicates()\n",
    "# display(flt_airpot_holiday_drop_dup)\n",
    "flt_airpot_holiday_drop_dup.head()\n",
    "\n"
   ]
  },
  {
   "cell_type": "code",
   "execution_count": 168,
   "metadata": {},
   "outputs": [
    {
     "output_type": "display_data",
     "data": {
      "text/plain": "    org  dst  CHG_WT_RT\n0     0    0   0.000000\n1   ADD  DWC   1.026262\n2   AKL  SIN   1.053646\n3   AKL  SYD   1.588971\n4   BNE  SIN   1.111133\n5   DME  DWC   1.023752\n6   DMM  DWC   1.404216\n7   DWC  AKL   1.193209\n8   DWC  BAH   1.213317\n9   DWC  BNE   1.006822\n10  DWC  BOM   1.041793\n11  DWC  DYU   1.000002\n12  DWC  HAN   1.043333\n13  DWC  HKG   1.163732\n14  DWC  HYD   1.067778\n15  DWC  ICN   1.122652\n16  DWC  MLE   1.170123\n17  DWC  SYD   1.001645\n18  DWC  TRV   1.133049\n19  HKG  AKL   1.559712\n20  HKG  SYD   1.021945\n21  KWI  DWC   1.110779\n22  LIS  DWC   1.059359\n23  MEX  DWC   1.025109\n24  MLA  DWC   1.090398\n25  MLA  OSL   2.385214\n26  MUC  DWC   1.134758\n27  NBO  DWC   1.020875\n28  OSL  DWC   1.026850\n29  PHX  DWC   1.266077\n30  SAW  DWC   1.045469\n31  SUB  BNE   1.000000\n32  ZRH  IKA   1.907560",
      "text/html": "<div>\n<style scoped>\n    .dataframe tbody tr th:only-of-type {\n        vertical-align: middle;\n    }\n\n    .dataframe tbody tr th {\n        vertical-align: top;\n    }\n\n    .dataframe thead th {\n        text-align: right;\n    }\n</style>\n<table border=\"1\" class=\"dataframe\">\n  <thead>\n    <tr style=\"text-align: right;\">\n      <th></th>\n      <th>org</th>\n      <th>dst</th>\n      <th>CHG_WT_RT</th>\n    </tr>\n  </thead>\n  <tbody>\n    <tr>\n      <th>0</th>\n      <td>0</td>\n      <td>0</td>\n      <td>0.000000</td>\n    </tr>\n    <tr>\n      <th>1</th>\n      <td>ADD</td>\n      <td>DWC</td>\n      <td>1.026262</td>\n    </tr>\n    <tr>\n      <th>2</th>\n      <td>AKL</td>\n      <td>SIN</td>\n      <td>1.053646</td>\n    </tr>\n    <tr>\n      <th>3</th>\n      <td>AKL</td>\n      <td>SYD</td>\n      <td>1.588971</td>\n    </tr>\n    <tr>\n      <th>4</th>\n      <td>BNE</td>\n      <td>SIN</td>\n      <td>1.111133</td>\n    </tr>\n    <tr>\n      <th>5</th>\n      <td>DME</td>\n      <td>DWC</td>\n      <td>1.023752</td>\n    </tr>\n    <tr>\n      <th>6</th>\n      <td>DMM</td>\n      <td>DWC</td>\n      <td>1.404216</td>\n    </tr>\n    <tr>\n      <th>7</th>\n      <td>DWC</td>\n      <td>AKL</td>\n      <td>1.193209</td>\n    </tr>\n    <tr>\n      <th>8</th>\n      <td>DWC</td>\n      <td>BAH</td>\n      <td>1.213317</td>\n    </tr>\n    <tr>\n      <th>9</th>\n      <td>DWC</td>\n      <td>BNE</td>\n      <td>1.006822</td>\n    </tr>\n    <tr>\n      <th>10</th>\n      <td>DWC</td>\n      <td>BOM</td>\n      <td>1.041793</td>\n    </tr>\n    <tr>\n      <th>11</th>\n      <td>DWC</td>\n      <td>DYU</td>\n      <td>1.000002</td>\n    </tr>\n    <tr>\n      <th>12</th>\n      <td>DWC</td>\n      <td>HAN</td>\n      <td>1.043333</td>\n    </tr>\n    <tr>\n      <th>13</th>\n      <td>DWC</td>\n      <td>HKG</td>\n      <td>1.163732</td>\n    </tr>\n    <tr>\n      <th>14</th>\n      <td>DWC</td>\n      <td>HYD</td>\n      <td>1.067778</td>\n    </tr>\n    <tr>\n      <th>15</th>\n      <td>DWC</td>\n      <td>ICN</td>\n      <td>1.122652</td>\n    </tr>\n    <tr>\n      <th>16</th>\n      <td>DWC</td>\n      <td>MLE</td>\n      <td>1.170123</td>\n    </tr>\n    <tr>\n      <th>17</th>\n      <td>DWC</td>\n      <td>SYD</td>\n      <td>1.001645</td>\n    </tr>\n    <tr>\n      <th>18</th>\n      <td>DWC</td>\n      <td>TRV</td>\n      <td>1.133049</td>\n    </tr>\n    <tr>\n      <th>19</th>\n      <td>HKG</td>\n      <td>AKL</td>\n      <td>1.559712</td>\n    </tr>\n    <tr>\n      <th>20</th>\n      <td>HKG</td>\n      <td>SYD</td>\n      <td>1.021945</td>\n    </tr>\n    <tr>\n      <th>21</th>\n      <td>KWI</td>\n      <td>DWC</td>\n      <td>1.110779</td>\n    </tr>\n    <tr>\n      <th>22</th>\n      <td>LIS</td>\n      <td>DWC</td>\n      <td>1.059359</td>\n    </tr>\n    <tr>\n      <th>23</th>\n      <td>MEX</td>\n      <td>DWC</td>\n      <td>1.025109</td>\n    </tr>\n    <tr>\n      <th>24</th>\n      <td>MLA</td>\n      <td>DWC</td>\n      <td>1.090398</td>\n    </tr>\n    <tr>\n      <th>25</th>\n      <td>MLA</td>\n      <td>OSL</td>\n      <td>2.385214</td>\n    </tr>\n    <tr>\n      <th>26</th>\n      <td>MUC</td>\n      <td>DWC</td>\n      <td>1.134758</td>\n    </tr>\n    <tr>\n      <th>27</th>\n      <td>NBO</td>\n      <td>DWC</td>\n      <td>1.020875</td>\n    </tr>\n    <tr>\n      <th>28</th>\n      <td>OSL</td>\n      <td>DWC</td>\n      <td>1.026850</td>\n    </tr>\n    <tr>\n      <th>29</th>\n      <td>PHX</td>\n      <td>DWC</td>\n      <td>1.266077</td>\n    </tr>\n    <tr>\n      <th>30</th>\n      <td>SAW</td>\n      <td>DWC</td>\n      <td>1.045469</td>\n    </tr>\n    <tr>\n      <th>31</th>\n      <td>SUB</td>\n      <td>BNE</td>\n      <td>1.000000</td>\n    </tr>\n    <tr>\n      <th>32</th>\n      <td>ZRH</td>\n      <td>IKA</td>\n      <td>1.907560</td>\n    </tr>\n  </tbody>\n</table>\n</div>"
     },
     "metadata": {}
    },
    {
     "output_type": "stream",
     "name": "stdout",
     "text": [
      "final df\n"
     ]
    }
   ],
   "source": [
    "# Calculate Chargeable and Booked weight Ratio\n",
    "def calEstimatedChgWeight(orgn_dst_flight_contry_df):\n",
    "    orgn_dst_flight_contry_df.loc[(orgn_dst_flight_contry_df['CHG_WT_BU_sum'] <0)] = 1 \n",
    "    orgn_dst_flight_contry_df.loc[(orgn_dst_flight_contry_df['BKD_WT_sum'] <0)] = 1 \n",
    "    grp_org_dst_wt_query = '''\n",
    "        select flt.org,flt.dst,sum(flt.CHG_WT_BU_sum)/sum(flt.BKD_WT_sum) as CHG_WT_RT\n",
    "        from orgn_dst_flight_contry_df flt\n",
    "        group by flt.org, flt.dst\n",
    "    '''\n",
    "    grpd_orgdst_chrgbl_rt_df = ps.sqldf(grp_org_dst_wt_query,locals())\n",
    "    grpd_orgdst_chrgbl_rt_df = grpd_orgdst_chrgbl_rt_df.replace(np.nan, 0)\n",
    "    # grpd_orgdst_chrgbl_rt_df[CHG_WT_RT < 0] = 0\n",
    "    display(grpd_orgdst_chrgbl_rt_df)\n",
    "    grpd_orgdst_chrgbl_rt_df.loc[(grpd_orgdst_chrgbl_rt_df['CHG_WT_RT'] <0)] = 1 \n",
    "    chrbl_cal_query = '''\n",
    "        select flt.*,(flt.EST_CGO_PLOD_WT_BU * rt.CHG_WT_RT) as EST_CHG_WT\n",
    "        from orgn_dst_flight_contry_df flt\n",
    "        left join grpd_orgdst_chrgbl_rt_df rt \n",
    "        on (flt.org=rt.org \n",
    "            and flt.dst=rt.dst \n",
    "            )\n",
    "        where flt.dst=rt.dst \n",
    "    '''\n",
    "    grpd_orgdst_chrgbl_rt_df = ps.sqldf(chrbl_cal_query,locals())\n",
    "\n",
    "    # display(grpd_orgdst_chrgbl_rt_df)\n",
    "    return grpd_orgdst_chrgbl_rt_df\n",
    "\n",
    "\n",
    "grpd_orgdst_chrgbl_rt_df=calEstimatedChgWeight(flt_airpot_holiday_drop_dup);\n",
    "\n",
    "\n",
    "print(\"final df\")\n",
    "# display(grpd_orgdst_chrgbl_rt_df)\n",
    "grpd_orgdst_chrgbl_rt_df.head()\n",
    "\n",
    "slct_df = grpd_orgdst_chrgbl_rt_df[(grpd_orgdst_chrgbl_rt_df.org == 'DWC') &(grpd_orgdst_chrgbl_rt_df.dst == 'ICN')]\n",
    "grpd_orgdst_chrgbl_rt_df=slct_df.dropna()\n",
    "grpd_orgdst_chrgbl_rt_df\n",
    "\n",
    "writeToCsv(grpd_orgdst_chrgbl_rt_df,\"final_data.csv\")\n"
   ]
  },
  {
   "cell_type": "code",
   "execution_count": 143,
   "metadata": {},
   "outputs": [],
   "source": [
    "\n",
    "stepwise_fit = auto_arima(grpd_orgdst_chrgbl_rt_df['CHG_WT_BU_sum'], start_p = 1, start_q = 1,\n",
    "                          max_p = 3, max_q = 3, m = 12,\n",
    "                          start_P = 0, seasonal = True,\n",
    "                          d = None, D = 1, trace = True,\n",
    "                          error_action ='ignore',   # we don't want to know if an order does not work\n",
    "                          suppress_warnings = True,  # we don't want convergence warnings\n",
    "                          stepwise = True)           # set to stepwise\n",
    "  \n",
    "# To print the summary\n",
    "stepwise_fit.summary()\n",
    "\n",
    "# train = airline.iloc[:len(airline)-12]\n",
    "# test = airline.iloc[len(airline)-12:] # set one year(12 months) for testing\n",
    "  \n",
    "# # Fit a SARIMAX(0, 1, 1)x(2, 1, 1, 12) on the training set\n",
    "# from statsmodels.tsa.statespace.sarimax import SARIMAX\n",
    "  \n",
    "# model = SARIMAX(train['# Passengers'], \n",
    "#                 order = (0, 1, 1), \n",
    "#                 seasonal_order =(2, 1, 1, 12))\n",
    "  \n",
    "# result = model.fit()\n",
    "# result.summary()\n",
    "\n"
   ]
  },
  {
   "cell_type": "code",
   "execution_count": 144,
   "metadata": {},
   "outputs": [],
   "source": [
    "# mask = grpd_orgdst_chrgbl_rt_df['org']=='DWC' and grpd_orgdst_chrgbl_rt_df['dst']==\"ICN\"\n",
    "# slct_df=grpd_orgdst_chrgbl_rt_df.where(mask)\n"
   ]
  },
  {
   "cell_type": "code",
   "execution_count": 145,
   "metadata": {},
   "outputs": [],
   "source": [
    "featurs=['SCH_DEP_DATE']"
   ]
  },
  {
   "cell_type": "code",
   "execution_count": 146,
   "metadata": {},
   "outputs": [
    {
     "output_type": "display_data",
     "data": {
      "text/plain": "     SCH_DEP_DATE  CHG_WT_BU_sum\n0      2018-01-03          171.1\n1      2018-01-04          815.2\n2      2018-01-05          551.7\n3      2018-01-06         1820.2\n4      2018-01-07        12000.3\n...           ...            ...\n1178   2021-09-14         1000.0\n1179   2021-09-16          903.0\n1180   2021-09-21         1000.0\n1181   2021-09-23          903.0\n1182   2021-09-28         1000.0\n\n[1183 rows x 2 columns]",
      "text/html": "<div>\n<style scoped>\n    .dataframe tbody tr th:only-of-type {\n        vertical-align: middle;\n    }\n\n    .dataframe tbody tr th {\n        vertical-align: top;\n    }\n\n    .dataframe thead th {\n        text-align: right;\n    }\n</style>\n<table border=\"1\" class=\"dataframe\">\n  <thead>\n    <tr style=\"text-align: right;\">\n      <th></th>\n      <th>SCH_DEP_DATE</th>\n      <th>CHG_WT_BU_sum</th>\n    </tr>\n  </thead>\n  <tbody>\n    <tr>\n      <th>0</th>\n      <td>2018-01-03</td>\n      <td>171.1</td>\n    </tr>\n    <tr>\n      <th>1</th>\n      <td>2018-01-04</td>\n      <td>815.2</td>\n    </tr>\n    <tr>\n      <th>2</th>\n      <td>2018-01-05</td>\n      <td>551.7</td>\n    </tr>\n    <tr>\n      <th>3</th>\n      <td>2018-01-06</td>\n      <td>1820.2</td>\n    </tr>\n    <tr>\n      <th>4</th>\n      <td>2018-01-07</td>\n      <td>12000.3</td>\n    </tr>\n    <tr>\n      <th>...</th>\n      <td>...</td>\n      <td>...</td>\n    </tr>\n    <tr>\n      <th>1178</th>\n      <td>2021-09-14</td>\n      <td>1000.0</td>\n    </tr>\n    <tr>\n      <th>1179</th>\n      <td>2021-09-16</td>\n      <td>903.0</td>\n    </tr>\n    <tr>\n      <th>1180</th>\n      <td>2021-09-21</td>\n      <td>1000.0</td>\n    </tr>\n    <tr>\n      <th>1181</th>\n      <td>2021-09-23</td>\n      <td>903.0</td>\n    </tr>\n    <tr>\n      <th>1182</th>\n      <td>2021-09-28</td>\n      <td>1000.0</td>\n    </tr>\n  </tbody>\n</table>\n<p>1183 rows × 2 columns</p>\n</div>"
     },
     "metadata": {}
    }
   ],
   "source": [
    "def getDailyCargoData(data):\n",
    "    daily_data = data.copy()\n",
    "    # display(daily_data)\n",
    "    # daily_data.SCH_DEP_DATE = daily_data.SCH_DEP_DATE.apply(lambda x: str(x)[:-3])\n",
    "    daily_data = daily_data.groupby(\"SCH_DEP_DATE\")['CHG_WT_BU_sum'].sum().reset_index()\n",
    "    # daily_data[\"SCH_DEP_DATE\"] = pd.to_datetime(daily_data.SCH_DEP_DATE)\n",
    "    flight_data.SCH_DEP_DATE = pd.to_datetime(flight_data.SCH_DEP_DATE, format='%Y-%m-%d')\n",
    "    flight_data['SCH_DEP_DATE'] = pd.to_datetime(flight_data['SCH_DEP_DATE']).dt.date\n",
    "    display(daily_data)\n",
    "    return daily_data\n",
    "\n",
    "daily_data=getDailyCargoData(grpd_orgdst_chrgbl_rt_df)\n",
    "daily_data=daily_data.sort_values(by='SCH_DEP_DATE')\n"
   ]
  },
  {
   "cell_type": "code",
   "execution_count": 147,
   "metadata": {},
   "outputs": [],
   "source": [
    "# mask = daily_data['SCH_DEP_DATE'].dt.year > int(2016)\n",
    "# slct_df=daily_data.where(mask)\n",
    "# selected_yr_df=slct_df.dropna()\n",
    "selected_yr_df=daily_data\n"
   ]
  },
  {
   "cell_type": "code",
   "execution_count": 148,
   "metadata": {},
   "outputs": [
    {
     "output_type": "stream",
     "name": "stdout",
     "text": [
      "     SCH_DEP_DATE  CHG_WT_BU_sum\n0      2018-01-03          171.1\n1      2018-01-04          815.2\n2      2018-01-05          551.7\n3      2018-01-06         1820.2\n4      2018-01-07        12000.3\n...           ...            ...\n1178   2021-09-14         1000.0\n1179   2021-09-16          903.0\n1180   2021-09-21         1000.0\n1181   2021-09-23          903.0\n1182   2021-09-28         1000.0\n\n[1183 rows x 2 columns]\n"
     ]
    },
    {
     "output_type": "error",
     "ename": "TypeError",
     "evalue": "tzinfo argument must be None or of a tzinfo subclass, not type 'UnitData'",
     "traceback": [
      "\u001b[1;31m---------------------------------------------------------------------------\u001b[0m",
      "\u001b[1;31mTypeError\u001b[0m                                 Traceback (most recent call last)",
      "\u001b[1;32mC:\\Apps\\Continuum\\anaconda3\\lib\\site-packages\\matplotlib_inline\\backend_inline.py\u001b[0m in \u001b[0;36mshow\u001b[1;34m(close, block)\u001b[0m\n\u001b[0;32m     41\u001b[0m             display(\n\u001b[0;32m     42\u001b[0m                 \u001b[0mfigure_manager\u001b[0m\u001b[1;33m.\u001b[0m\u001b[0mcanvas\u001b[0m\u001b[1;33m.\u001b[0m\u001b[0mfigure\u001b[0m\u001b[1;33m,\u001b[0m\u001b[1;33m\u001b[0m\u001b[1;33m\u001b[0m\u001b[0m\n\u001b[1;32m---> 43\u001b[1;33m                 \u001b[0mmetadata\u001b[0m\u001b[1;33m=\u001b[0m\u001b[0m_fetch_figure_metadata\u001b[0m\u001b[1;33m(\u001b[0m\u001b[0mfigure_manager\u001b[0m\u001b[1;33m.\u001b[0m\u001b[0mcanvas\u001b[0m\u001b[1;33m.\u001b[0m\u001b[0mfigure\u001b[0m\u001b[1;33m)\u001b[0m\u001b[1;33m\u001b[0m\u001b[1;33m\u001b[0m\u001b[0m\n\u001b[0m\u001b[0;32m     44\u001b[0m             )\n\u001b[0;32m     45\u001b[0m     \u001b[1;32mfinally\u001b[0m\u001b[1;33m:\u001b[0m\u001b[1;33m\u001b[0m\u001b[1;33m\u001b[0m\u001b[0m\n",
      "\u001b[1;32mC:\\Apps\\Continuum\\anaconda3\\lib\\site-packages\\matplotlib_inline\\backend_inline.py\u001b[0m in \u001b[0;36m_fetch_figure_metadata\u001b[1;34m(fig)\u001b[0m\n\u001b[0;32m    230\u001b[0m         \u001b[1;31m# the background is transparent\u001b[0m\u001b[1;33m\u001b[0m\u001b[1;33m\u001b[0m\u001b[1;33m\u001b[0m\u001b[0m\n\u001b[0;32m    231\u001b[0m         ticksLight = _is_light([label.get_color()\n\u001b[1;32m--> 232\u001b[1;33m                                 \u001b[1;32mfor\u001b[0m \u001b[0maxes\u001b[0m \u001b[1;32min\u001b[0m \u001b[0mfig\u001b[0m\u001b[1;33m.\u001b[0m\u001b[0maxes\u001b[0m\u001b[1;33m\u001b[0m\u001b[1;33m\u001b[0m\u001b[0m\n\u001b[0m\u001b[0;32m    233\u001b[0m                                 \u001b[1;32mfor\u001b[0m \u001b[0maxis\u001b[0m \u001b[1;32min\u001b[0m \u001b[1;33m(\u001b[0m\u001b[0maxes\u001b[0m\u001b[1;33m.\u001b[0m\u001b[0mxaxis\u001b[0m\u001b[1;33m,\u001b[0m \u001b[0maxes\u001b[0m\u001b[1;33m.\u001b[0m\u001b[0myaxis\u001b[0m\u001b[1;33m)\u001b[0m\u001b[1;33m\u001b[0m\u001b[1;33m\u001b[0m\u001b[0m\n\u001b[0;32m    234\u001b[0m                                 for label in axis.get_ticklabels()])\n",
      "\u001b[1;32mC:\\Apps\\Continuum\\anaconda3\\lib\\site-packages\\matplotlib_inline\\backend_inline.py\u001b[0m in \u001b[0;36m<listcomp>\u001b[1;34m(.0)\u001b[0m\n\u001b[0;32m    232\u001b[0m                                 \u001b[1;32mfor\u001b[0m \u001b[0maxes\u001b[0m \u001b[1;32min\u001b[0m \u001b[0mfig\u001b[0m\u001b[1;33m.\u001b[0m\u001b[0maxes\u001b[0m\u001b[1;33m\u001b[0m\u001b[1;33m\u001b[0m\u001b[0m\n\u001b[0;32m    233\u001b[0m                                 \u001b[1;32mfor\u001b[0m \u001b[0maxis\u001b[0m \u001b[1;32min\u001b[0m \u001b[1;33m(\u001b[0m\u001b[0maxes\u001b[0m\u001b[1;33m.\u001b[0m\u001b[0mxaxis\u001b[0m\u001b[1;33m,\u001b[0m \u001b[0maxes\u001b[0m\u001b[1;33m.\u001b[0m\u001b[0myaxis\u001b[0m\u001b[1;33m)\u001b[0m\u001b[1;33m\u001b[0m\u001b[1;33m\u001b[0m\u001b[0m\n\u001b[1;32m--> 234\u001b[1;33m                                 for label in axis.get_ticklabels()])\n\u001b[0m\u001b[0;32m    235\u001b[0m         \u001b[1;32mif\u001b[0m \u001b[0mticksLight\u001b[0m\u001b[1;33m.\u001b[0m\u001b[0msize\u001b[0m \u001b[1;32mand\u001b[0m \u001b[1;33m(\u001b[0m\u001b[0mticksLight\u001b[0m \u001b[1;33m==\u001b[0m \u001b[0mticksLight\u001b[0m\u001b[1;33m[\u001b[0m\u001b[1;36m0\u001b[0m\u001b[1;33m]\u001b[0m\u001b[1;33m)\u001b[0m\u001b[1;33m.\u001b[0m\u001b[0mall\u001b[0m\u001b[1;33m(\u001b[0m\u001b[1;33m)\u001b[0m\u001b[1;33m:\u001b[0m\u001b[1;33m\u001b[0m\u001b[1;33m\u001b[0m\u001b[0m\n\u001b[0;32m    236\u001b[0m             \u001b[1;31m# there are one or more tick labels, all with the same lightness\u001b[0m\u001b[1;33m\u001b[0m\u001b[1;33m\u001b[0m\u001b[1;33m\u001b[0m\u001b[0m\n",
      "\u001b[1;32mC:\\Apps\\Continuum\\anaconda3\\lib\\site-packages\\matplotlib\\axis.py\u001b[0m in \u001b[0;36mget_ticklabels\u001b[1;34m(self, minor, which)\u001b[0m\n\u001b[0;32m   1230\u001b[0m         \u001b[1;32mif\u001b[0m \u001b[0mminor\u001b[0m\u001b[1;33m:\u001b[0m\u001b[1;33m\u001b[0m\u001b[1;33m\u001b[0m\u001b[0m\n\u001b[0;32m   1231\u001b[0m             \u001b[1;32mreturn\u001b[0m \u001b[0mself\u001b[0m\u001b[1;33m.\u001b[0m\u001b[0mget_minorticklabels\u001b[0m\u001b[1;33m(\u001b[0m\u001b[1;33m)\u001b[0m\u001b[1;33m\u001b[0m\u001b[1;33m\u001b[0m\u001b[0m\n\u001b[1;32m-> 1232\u001b[1;33m         \u001b[1;32mreturn\u001b[0m \u001b[0mself\u001b[0m\u001b[1;33m.\u001b[0m\u001b[0mget_majorticklabels\u001b[0m\u001b[1;33m(\u001b[0m\u001b[1;33m)\u001b[0m\u001b[1;33m\u001b[0m\u001b[1;33m\u001b[0m\u001b[0m\n\u001b[0m\u001b[0;32m   1233\u001b[0m \u001b[1;33m\u001b[0m\u001b[0m\n\u001b[0;32m   1234\u001b[0m     \u001b[1;32mdef\u001b[0m \u001b[0mget_majorticklines\u001b[0m\u001b[1;33m(\u001b[0m\u001b[0mself\u001b[0m\u001b[1;33m)\u001b[0m\u001b[1;33m:\u001b[0m\u001b[1;33m\u001b[0m\u001b[1;33m\u001b[0m\u001b[0m\n",
      "\u001b[1;32mC:\\Apps\\Continuum\\anaconda3\\lib\\site-packages\\matplotlib\\axis.py\u001b[0m in \u001b[0;36mget_majorticklabels\u001b[1;34m(self)\u001b[0m\n\u001b[0;32m   1182\u001b[0m     \u001b[1;32mdef\u001b[0m \u001b[0mget_majorticklabels\u001b[0m\u001b[1;33m(\u001b[0m\u001b[0mself\u001b[0m\u001b[1;33m)\u001b[0m\u001b[1;33m:\u001b[0m\u001b[1;33m\u001b[0m\u001b[1;33m\u001b[0m\u001b[0m\n\u001b[0;32m   1183\u001b[0m         \u001b[1;34m\"\"\"Return this Axis' major tick labels, as a list of `~.text.Text`.\"\"\"\u001b[0m\u001b[1;33m\u001b[0m\u001b[1;33m\u001b[0m\u001b[0m\n\u001b[1;32m-> 1184\u001b[1;33m         \u001b[0mticks\u001b[0m \u001b[1;33m=\u001b[0m \u001b[0mself\u001b[0m\u001b[1;33m.\u001b[0m\u001b[0mget_major_ticks\u001b[0m\u001b[1;33m(\u001b[0m\u001b[1;33m)\u001b[0m\u001b[1;33m\u001b[0m\u001b[1;33m\u001b[0m\u001b[0m\n\u001b[0m\u001b[0;32m   1185\u001b[0m         \u001b[0mlabels1\u001b[0m \u001b[1;33m=\u001b[0m \u001b[1;33m[\u001b[0m\u001b[0mtick\u001b[0m\u001b[1;33m.\u001b[0m\u001b[0mlabel1\u001b[0m \u001b[1;32mfor\u001b[0m \u001b[0mtick\u001b[0m \u001b[1;32min\u001b[0m \u001b[0mticks\u001b[0m \u001b[1;32mif\u001b[0m \u001b[0mtick\u001b[0m\u001b[1;33m.\u001b[0m\u001b[0mlabel1\u001b[0m\u001b[1;33m.\u001b[0m\u001b[0mget_visible\u001b[0m\u001b[1;33m(\u001b[0m\u001b[1;33m)\u001b[0m\u001b[1;33m]\u001b[0m\u001b[1;33m\u001b[0m\u001b[1;33m\u001b[0m\u001b[0m\n\u001b[0;32m   1186\u001b[0m         \u001b[0mlabels2\u001b[0m \u001b[1;33m=\u001b[0m \u001b[1;33m[\u001b[0m\u001b[0mtick\u001b[0m\u001b[1;33m.\u001b[0m\u001b[0mlabel2\u001b[0m \u001b[1;32mfor\u001b[0m \u001b[0mtick\u001b[0m \u001b[1;32min\u001b[0m \u001b[0mticks\u001b[0m \u001b[1;32mif\u001b[0m \u001b[0mtick\u001b[0m\u001b[1;33m.\u001b[0m\u001b[0mlabel2\u001b[0m\u001b[1;33m.\u001b[0m\u001b[0mget_visible\u001b[0m\u001b[1;33m(\u001b[0m\u001b[1;33m)\u001b[0m\u001b[1;33m]\u001b[0m\u001b[1;33m\u001b[0m\u001b[1;33m\u001b[0m\u001b[0m\n",
      "\u001b[1;32mC:\\Apps\\Continuum\\anaconda3\\lib\\site-packages\\matplotlib\\axis.py\u001b[0m in \u001b[0;36mget_major_ticks\u001b[1;34m(self, numticks)\u001b[0m\n\u001b[0;32m   1353\u001b[0m         \u001b[1;34mr\"\"\"Return the list of major `.Tick`\\s.\"\"\"\u001b[0m\u001b[1;33m\u001b[0m\u001b[1;33m\u001b[0m\u001b[0m\n\u001b[0;32m   1354\u001b[0m         \u001b[1;32mif\u001b[0m \u001b[0mnumticks\u001b[0m \u001b[1;32mis\u001b[0m \u001b[1;32mNone\u001b[0m\u001b[1;33m:\u001b[0m\u001b[1;33m\u001b[0m\u001b[1;33m\u001b[0m\u001b[0m\n\u001b[1;32m-> 1355\u001b[1;33m             \u001b[0mnumticks\u001b[0m \u001b[1;33m=\u001b[0m \u001b[0mlen\u001b[0m\u001b[1;33m(\u001b[0m\u001b[0mself\u001b[0m\u001b[1;33m.\u001b[0m\u001b[0mget_majorticklocs\u001b[0m\u001b[1;33m(\u001b[0m\u001b[1;33m)\u001b[0m\u001b[1;33m)\u001b[0m\u001b[1;33m\u001b[0m\u001b[1;33m\u001b[0m\u001b[0m\n\u001b[0m\u001b[0;32m   1356\u001b[0m \u001b[1;33m\u001b[0m\u001b[0m\n\u001b[0;32m   1357\u001b[0m         \u001b[1;32mwhile\u001b[0m \u001b[0mlen\u001b[0m\u001b[1;33m(\u001b[0m\u001b[0mself\u001b[0m\u001b[1;33m.\u001b[0m\u001b[0mmajorTicks\u001b[0m\u001b[1;33m)\u001b[0m \u001b[1;33m<\u001b[0m \u001b[0mnumticks\u001b[0m\u001b[1;33m:\u001b[0m\u001b[1;33m\u001b[0m\u001b[1;33m\u001b[0m\u001b[0m\n",
      "\u001b[1;32mC:\\Apps\\Continuum\\anaconda3\\lib\\site-packages\\matplotlib\\axis.py\u001b[0m in \u001b[0;36mget_majorticklocs\u001b[1;34m(self)\u001b[0m\n\u001b[0;32m   1258\u001b[0m     \u001b[1;32mdef\u001b[0m \u001b[0mget_majorticklocs\u001b[0m\u001b[1;33m(\u001b[0m\u001b[0mself\u001b[0m\u001b[1;33m)\u001b[0m\u001b[1;33m:\u001b[0m\u001b[1;33m\u001b[0m\u001b[1;33m\u001b[0m\u001b[0m\n\u001b[0;32m   1259\u001b[0m         \u001b[1;34m\"\"\"Return this Axis' major tick locations in data coordinates.\"\"\"\u001b[0m\u001b[1;33m\u001b[0m\u001b[1;33m\u001b[0m\u001b[0m\n\u001b[1;32m-> 1260\u001b[1;33m         \u001b[1;32mreturn\u001b[0m \u001b[0mself\u001b[0m\u001b[1;33m.\u001b[0m\u001b[0mmajor\u001b[0m\u001b[1;33m.\u001b[0m\u001b[0mlocator\u001b[0m\u001b[1;33m(\u001b[0m\u001b[1;33m)\u001b[0m\u001b[1;33m\u001b[0m\u001b[1;33m\u001b[0m\u001b[0m\n\u001b[0m\u001b[0;32m   1261\u001b[0m \u001b[1;33m\u001b[0m\u001b[0m\n\u001b[0;32m   1262\u001b[0m     \u001b[1;32mdef\u001b[0m \u001b[0mget_minorticklocs\u001b[0m\u001b[1;33m(\u001b[0m\u001b[0mself\u001b[0m\u001b[1;33m)\u001b[0m\u001b[1;33m:\u001b[0m\u001b[1;33m\u001b[0m\u001b[1;33m\u001b[0m\u001b[0m\n",
      "\u001b[1;32mC:\\Apps\\Continuum\\anaconda3\\lib\\site-packages\\matplotlib\\dates.py\u001b[0m in \u001b[0;36m__call__\u001b[1;34m(self)\u001b[0m\n\u001b[0;32m   1339\u001b[0m     \u001b[1;32mdef\u001b[0m \u001b[0m__call__\u001b[0m\u001b[1;33m(\u001b[0m\u001b[0mself\u001b[0m\u001b[1;33m)\u001b[0m\u001b[1;33m:\u001b[0m\u001b[1;33m\u001b[0m\u001b[1;33m\u001b[0m\u001b[0m\n\u001b[0;32m   1340\u001b[0m         \u001b[1;31m# docstring inherited\u001b[0m\u001b[1;33m\u001b[0m\u001b[1;33m\u001b[0m\u001b[1;33m\u001b[0m\u001b[0m\n\u001b[1;32m-> 1341\u001b[1;33m         \u001b[0mdmin\u001b[0m\u001b[1;33m,\u001b[0m \u001b[0mdmax\u001b[0m \u001b[1;33m=\u001b[0m \u001b[0mself\u001b[0m\u001b[1;33m.\u001b[0m\u001b[0mviewlim_to_dt\u001b[0m\u001b[1;33m(\u001b[0m\u001b[1;33m)\u001b[0m\u001b[1;33m\u001b[0m\u001b[1;33m\u001b[0m\u001b[0m\n\u001b[0m\u001b[0;32m   1342\u001b[0m         \u001b[0mlocator\u001b[0m \u001b[1;33m=\u001b[0m \u001b[0mself\u001b[0m\u001b[1;33m.\u001b[0m\u001b[0mget_locator\u001b[0m\u001b[1;33m(\u001b[0m\u001b[0mdmin\u001b[0m\u001b[1;33m,\u001b[0m \u001b[0mdmax\u001b[0m\u001b[1;33m)\u001b[0m\u001b[1;33m\u001b[0m\u001b[1;33m\u001b[0m\u001b[0m\n\u001b[0;32m   1343\u001b[0m         \u001b[1;32mreturn\u001b[0m \u001b[0mlocator\u001b[0m\u001b[1;33m(\u001b[0m\u001b[1;33m)\u001b[0m\u001b[1;33m\u001b[0m\u001b[1;33m\u001b[0m\u001b[0m\n",
      "\u001b[1;32mC:\\Apps\\Continuum\\anaconda3\\lib\\site-packages\\matplotlib\\dates.py\u001b[0m in \u001b[0;36mviewlim_to_dt\u001b[1;34m(self)\u001b[0m\n\u001b[0;32m   1130\u001b[0m         \u001b[1;32mif\u001b[0m \u001b[0mvmin\u001b[0m \u001b[1;33m>\u001b[0m \u001b[0mvmax\u001b[0m\u001b[1;33m:\u001b[0m\u001b[1;33m\u001b[0m\u001b[1;33m\u001b[0m\u001b[0m\n\u001b[0;32m   1131\u001b[0m             \u001b[0mvmin\u001b[0m\u001b[1;33m,\u001b[0m \u001b[0mvmax\u001b[0m \u001b[1;33m=\u001b[0m \u001b[0mvmax\u001b[0m\u001b[1;33m,\u001b[0m \u001b[0mvmin\u001b[0m\u001b[1;33m\u001b[0m\u001b[1;33m\u001b[0m\u001b[0m\n\u001b[1;32m-> 1132\u001b[1;33m         \u001b[1;32mreturn\u001b[0m \u001b[0mnum2date\u001b[0m\u001b[1;33m(\u001b[0m\u001b[0mvmin\u001b[0m\u001b[1;33m,\u001b[0m \u001b[0mself\u001b[0m\u001b[1;33m.\u001b[0m\u001b[0mtz\u001b[0m\u001b[1;33m)\u001b[0m\u001b[1;33m,\u001b[0m \u001b[0mnum2date\u001b[0m\u001b[1;33m(\u001b[0m\u001b[0mvmax\u001b[0m\u001b[1;33m,\u001b[0m \u001b[0mself\u001b[0m\u001b[1;33m.\u001b[0m\u001b[0mtz\u001b[0m\u001b[1;33m)\u001b[0m\u001b[1;33m\u001b[0m\u001b[1;33m\u001b[0m\u001b[0m\n\u001b[0m\u001b[0;32m   1133\u001b[0m \u001b[1;33m\u001b[0m\u001b[0m\n\u001b[0;32m   1134\u001b[0m     \u001b[1;32mdef\u001b[0m \u001b[0m_get_unit\u001b[0m\u001b[1;33m(\u001b[0m\u001b[0mself\u001b[0m\u001b[1;33m)\u001b[0m\u001b[1;33m:\u001b[0m\u001b[1;33m\u001b[0m\u001b[1;33m\u001b[0m\u001b[0m\n",
      "\u001b[1;32mC:\\Apps\\Continuum\\anaconda3\\lib\\site-packages\\matplotlib\\dates.py\u001b[0m in \u001b[0;36mnum2date\u001b[1;34m(x, tz)\u001b[0m\n\u001b[0;32m    506\u001b[0m     \u001b[1;32mif\u001b[0m \u001b[0mtz\u001b[0m \u001b[1;32mis\u001b[0m \u001b[1;32mNone\u001b[0m\u001b[1;33m:\u001b[0m\u001b[1;33m\u001b[0m\u001b[1;33m\u001b[0m\u001b[0m\n\u001b[0;32m    507\u001b[0m         \u001b[0mtz\u001b[0m \u001b[1;33m=\u001b[0m \u001b[0m_get_rc_timezone\u001b[0m\u001b[1;33m(\u001b[0m\u001b[1;33m)\u001b[0m\u001b[1;33m\u001b[0m\u001b[1;33m\u001b[0m\u001b[0m\n\u001b[1;32m--> 508\u001b[1;33m     \u001b[1;32mreturn\u001b[0m \u001b[0m_from_ordinalf_np_vectorized\u001b[0m\u001b[1;33m(\u001b[0m\u001b[0mx\u001b[0m\u001b[1;33m,\u001b[0m \u001b[0mtz\u001b[0m\u001b[1;33m)\u001b[0m\u001b[1;33m.\u001b[0m\u001b[0mtolist\u001b[0m\u001b[1;33m(\u001b[0m\u001b[1;33m)\u001b[0m\u001b[1;33m\u001b[0m\u001b[1;33m\u001b[0m\u001b[0m\n\u001b[0m\u001b[0;32m    509\u001b[0m \u001b[1;33m\u001b[0m\u001b[0m\n\u001b[0;32m    510\u001b[0m \u001b[1;33m\u001b[0m\u001b[0m\n",
      "\u001b[1;32mC:\\Apps\\Continuum\\anaconda3\\lib\\site-packages\\numpy\\lib\\function_base.py\u001b[0m in \u001b[0;36m__call__\u001b[1;34m(self, *args, **kwargs)\u001b[0m\n\u001b[0;32m   2106\u001b[0m             \u001b[0mvargs\u001b[0m\u001b[1;33m.\u001b[0m\u001b[0mextend\u001b[0m\u001b[1;33m(\u001b[0m\u001b[1;33m[\u001b[0m\u001b[0mkwargs\u001b[0m\u001b[1;33m[\u001b[0m\u001b[0m_n\u001b[0m\u001b[1;33m]\u001b[0m \u001b[1;32mfor\u001b[0m \u001b[0m_n\u001b[0m \u001b[1;32min\u001b[0m \u001b[0mnames\u001b[0m\u001b[1;33m]\u001b[0m\u001b[1;33m)\u001b[0m\u001b[1;33m\u001b[0m\u001b[1;33m\u001b[0m\u001b[0m\n\u001b[0;32m   2107\u001b[0m \u001b[1;33m\u001b[0m\u001b[0m\n\u001b[1;32m-> 2108\u001b[1;33m         \u001b[1;32mreturn\u001b[0m \u001b[0mself\u001b[0m\u001b[1;33m.\u001b[0m\u001b[0m_vectorize_call\u001b[0m\u001b[1;33m(\u001b[0m\u001b[0mfunc\u001b[0m\u001b[1;33m=\u001b[0m\u001b[0mfunc\u001b[0m\u001b[1;33m,\u001b[0m \u001b[0margs\u001b[0m\u001b[1;33m=\u001b[0m\u001b[0mvargs\u001b[0m\u001b[1;33m)\u001b[0m\u001b[1;33m\u001b[0m\u001b[1;33m\u001b[0m\u001b[0m\n\u001b[0m\u001b[0;32m   2109\u001b[0m \u001b[1;33m\u001b[0m\u001b[0m\n\u001b[0;32m   2110\u001b[0m     \u001b[1;32mdef\u001b[0m \u001b[0m_get_ufunc_and_otypes\u001b[0m\u001b[1;33m(\u001b[0m\u001b[0mself\u001b[0m\u001b[1;33m,\u001b[0m \u001b[0mfunc\u001b[0m\u001b[1;33m,\u001b[0m \u001b[0margs\u001b[0m\u001b[1;33m)\u001b[0m\u001b[1;33m:\u001b[0m\u001b[1;33m\u001b[0m\u001b[1;33m\u001b[0m\u001b[0m\n",
      "\u001b[1;32mC:\\Apps\\Continuum\\anaconda3\\lib\\site-packages\\numpy\\lib\\function_base.py\u001b[0m in \u001b[0;36m_vectorize_call\u001b[1;34m(self, func, args)\u001b[0m\n\u001b[0;32m   2190\u001b[0m                       for a in args]\n\u001b[0;32m   2191\u001b[0m \u001b[1;33m\u001b[0m\u001b[0m\n\u001b[1;32m-> 2192\u001b[1;33m             \u001b[0moutputs\u001b[0m \u001b[1;33m=\u001b[0m \u001b[0mufunc\u001b[0m\u001b[1;33m(\u001b[0m\u001b[1;33m*\u001b[0m\u001b[0minputs\u001b[0m\u001b[1;33m)\u001b[0m\u001b[1;33m\u001b[0m\u001b[1;33m\u001b[0m\u001b[0m\n\u001b[0m\u001b[0;32m   2193\u001b[0m \u001b[1;33m\u001b[0m\u001b[0m\n\u001b[0;32m   2194\u001b[0m             \u001b[1;32mif\u001b[0m \u001b[0mufunc\u001b[0m\u001b[1;33m.\u001b[0m\u001b[0mnout\u001b[0m \u001b[1;33m==\u001b[0m \u001b[1;36m1\u001b[0m\u001b[1;33m:\u001b[0m\u001b[1;33m\u001b[0m\u001b[1;33m\u001b[0m\u001b[0m\n",
      "\u001b[1;32mC:\\Apps\\Continuum\\anaconda3\\lib\\site-packages\\matplotlib\\dates.py\u001b[0m in \u001b[0;36m_from_ordinalf\u001b[1;34m(x, tz)\u001b[0m\n\u001b[0;32m    337\u001b[0m     \u001b[0mdt\u001b[0m \u001b[1;33m=\u001b[0m \u001b[0mdt\u001b[0m\u001b[1;33m.\u001b[0m\u001b[0mreplace\u001b[0m\u001b[1;33m(\u001b[0m\u001b[0mtzinfo\u001b[0m\u001b[1;33m=\u001b[0m\u001b[0mdateutil\u001b[0m\u001b[1;33m.\u001b[0m\u001b[0mtz\u001b[0m\u001b[1;33m.\u001b[0m\u001b[0mgettz\u001b[0m\u001b[1;33m(\u001b[0m\u001b[1;34m'UTC'\u001b[0m\u001b[1;33m)\u001b[0m\u001b[1;33m)\u001b[0m\u001b[1;33m\u001b[0m\u001b[1;33m\u001b[0m\u001b[0m\n\u001b[0;32m    338\u001b[0m     \u001b[1;31m# but maybe we are working in a different timezone so move.\u001b[0m\u001b[1;33m\u001b[0m\u001b[1;33m\u001b[0m\u001b[1;33m\u001b[0m\u001b[0m\n\u001b[1;32m--> 339\u001b[1;33m     \u001b[0mdt\u001b[0m \u001b[1;33m=\u001b[0m \u001b[0mdt\u001b[0m\u001b[1;33m.\u001b[0m\u001b[0mastimezone\u001b[0m\u001b[1;33m(\u001b[0m\u001b[0mtz\u001b[0m\u001b[1;33m)\u001b[0m\u001b[1;33m\u001b[0m\u001b[1;33m\u001b[0m\u001b[0m\n\u001b[0m\u001b[0;32m    340\u001b[0m     \u001b[1;31m# fix round off errors\u001b[0m\u001b[1;33m\u001b[0m\u001b[1;33m\u001b[0m\u001b[1;33m\u001b[0m\u001b[0m\n\u001b[0;32m    341\u001b[0m     \u001b[1;32mif\u001b[0m \u001b[0mnp\u001b[0m\u001b[1;33m.\u001b[0m\u001b[0mabs\u001b[0m\u001b[1;33m(\u001b[0m\u001b[0mx\u001b[0m\u001b[1;33m)\u001b[0m \u001b[1;33m>\u001b[0m \u001b[1;36m70\u001b[0m \u001b[1;33m*\u001b[0m \u001b[1;36m365\u001b[0m\u001b[1;33m:\u001b[0m\u001b[1;33m\u001b[0m\u001b[1;33m\u001b[0m\u001b[0m\n",
      "\u001b[1;31mTypeError\u001b[0m: tzinfo argument must be None or of a tzinfo subclass, not type 'UnitData'"
     ]
    }
   ],
   "source": [
    "def time_plot(data, x_col, y_col, title):\n",
    "    fig, ax = plt.subplots(figsize=(18,4))\n",
    "    sns.lineplot(x_col, y_col, data=data, ax=ax, color='mediumblue', label='Total Cargo')\n",
    "#     print(data)\n",
    "    second = data.groupby(\"SCH_DEP_DATE\")[y_col].mean().reset_index()\n",
    "    print(second)\n",
    "    second.SCH_DEP_DATE = pd.to_datetime(second.SCH_DEP_DATE, format='%Y-%m-%d')\n",
    "    sns.lineplot((second.SCH_DEP_DATE + datetime.timedelta(4*365/12)), y_col, data=second, ax=ax, color='red', label='Mean Cargo')   \n",
    "    \n",
    "    ax.set(xlabel = \"Date\",\n",
    "           ylabel = \"Cargo\",\n",
    "           title = title)\n",
    "    \n",
    "    sns.despine()\n",
    "    \n",
    "time_plot(selected_yr_df, 'SCH_DEP_DATE', 'CHG_WT_BU_sum', 'Daily Cargo Before Diff Transformation')"
   ]
  },
  {
   "cell_type": "code",
   "execution_count": null,
   "metadata": {},
   "outputs": [],
   "source": [
    "def get_diff(data):\n",
    "    data=data.sort_values(by='SCH_DEP_DATE')\n",
    "    data['cargo_diff'] = data.CHG_WT_BU_sum.diff()\n",
    "    data = data.dropna()\n",
    "    dir=os.path.dirname(os.path.abspath(\"__file__\"))\n",
    "    data.to_csv('../data/stationary_cargo_df.csv')\n",
    "    return data\n",
    "    \n",
    "stationary_df = get_diff(selected_yr_df)\n",
    "time_plot(stationary_df, 'SCH_DEP_DATE', 'CHG_WT_BU_sum', 'Daily Cargo After Diff Transformation')"
   ]
  },
  {
   "cell_type": "code",
   "execution_count": null,
   "metadata": {},
   "outputs": [],
   "source": [
    "dopColm=['CHG_WT_BU_sum']"
   ]
  },
  {
   "cell_type": "code",
   "execution_count": null,
   "metadata": {},
   "outputs": [],
   "source": [
    "\n",
    "\n",
    "def plots(data, lags=None):\n",
    "    \n",
    "    # Convert dataframe to datetimdopColm\n",
    "    dt_data = data.set_index('SCH_DEP_DATE').drop(dopColm, axis=1)\n",
    "    dt_data.info()\n",
    "    dt_data.dropna(axis=0)\n",
    "    layout = (1, 3)\n",
    "    raw  = plt.subplot2grid(layout, (0, 0))\n",
    "    acf  = plt.subplot2grid(layout, (0, 1))\n",
    "    pacf = plt.subplot2grid(layout, (0, 2))\n",
    "    \n",
    "    dt_data.plot(ax=raw, figsize=(12, 5), color='mediumblue')\n",
    "    smt.graphics.plot_acf(dt_data, lags=lags, ax=acf, color='mediumblue')\n",
    "    smt.graphics.plot_pacf(dt_data, lags=lags, ax=pacf, color='mediumblue')\n",
    "    sns.despine()\n",
    "    plt.tight_layout()\n",
    "\n",
    "plots(stationary_df, lags=18);\n",
    "display(stationary_df)"
   ]
  },
  {
   "source": [
    "# Preparing Dataset Modeling"
   ],
   "cell_type": "markdown",
   "metadata": {}
  },
  {
   "cell_type": "code",
   "execution_count": null,
   "metadata": {},
   "outputs": [],
   "source": [
    "#create dataframe for transformation from time series to supervised\n",
    "def generate_supervised(data):\n",
    "    supervised_df = data.copy()\n",
    "    \n",
    "    #create column for each lag\n",
    "    for i in range(1,19):\n",
    "        col_name = 'lag_' + str(i)\n",
    "        supervised_df[col_name] = supervised_df['cargo_diff'].shift(i)\n",
    "    \n",
    "    #drop null values\n",
    "    supervised_df = supervised_df.dropna().reset_index(drop=True)\n",
    "    dir=os.path.dirname(os.path.abspath(\"__file__\"))\n",
    "    supervised_df.to_csv(dir+'/data/model_df.csv', index=False)\n",
    "    \n",
    "    return supervised_df\n",
    "# display(stationary_df)\n",
    "model_df = generate_supervised(stationary_df)\n",
    "\n",
    "model_df\n"
   ]
  },
  {
   "source": [
    "# ARIMA Modeling"
   ],
   "cell_type": "markdown",
   "metadata": {}
  },
  {
   "cell_type": "code",
   "execution_count": null,
   "metadata": {},
   "outputs": [],
   "source": [
    "def generate_arima_data(data):\n",
    "    dt_data = data.set_index(\"SCH_DEP_DATE\").drop('CHG_WT_BU_sum', axis=1)\n",
    "    dt_data.dropna(axis=0)\n",
    "    # dir=os.path.dirname(os.path.abspath(\"__file__\"))\n",
    "    # dt_data.to_csv(dir+'/data/arima_df.csv')\n",
    "    writeToCsv(dt_data,\"arima_df.csv\")\n",
    "    return dt_data\n",
    "datetime_df = generate_arima_data(stationary_df)\n",
    "datetime_df\n"
   ]
  },
  {
   "cell_type": "code",
   "execution_count": null,
   "metadata": {},
   "outputs": [],
   "source": []
  }
 ],
 "metadata": {
  "kernelspec": {
   "name": "python3",
   "display_name": "Python 3 (ipykernel)",
   "language": "python"
  },
  "language_info": {
   "codemirror_mode": {
    "name": "ipython",
    "version": 3
   },
   "file_extension": ".py",
   "mimetype": "text/x-python",
   "name": "python",
   "nbconvert_exporter": "python",
   "pygments_lexer": "ipython3",
   "version": "3.7.3-final"
  },
  "toc": {
   "base_numbering": 1,
   "nav_menu": {},
   "number_sections": true,
   "sideBar": true,
   "skip_h1_title": false,
   "title_cell": "Table of Contents",
   "title_sidebar": "Contents",
   "toc_cell": false,
   "toc_position": {
    "height": "calc(100% - 180px)",
    "left": "10px",
    "top": "150px",
    "width": "165px"
   },
   "toc_section_display": true,
   "toc_window_display": true
  }
 },
 "nbformat": 4,
 "nbformat_minor": 2
}